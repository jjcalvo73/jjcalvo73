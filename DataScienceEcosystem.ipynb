{
 "cells": [
  {
   "cell_type": "code",
   "execution_count": null,
   "id": "13ec5ec9-ad84-4fa6-a723-b52e759eca0a",
   "metadata": {},
   "outputs": [],
   "source": [
    "# Data Science Tools and Ecosystem"
   ]
  },
  {
   "cell_type": "code",
   "execution_count": null,
   "id": "ba240fe5-b8ff-4bab-87e3-b051ae344a9a",
   "metadata": {},
   "outputs": [],
   "source": [
    "#In this notebook, Data Science Tools and Ecosystem are summarized."
   ]
  },
  {
   "cell_type": "code",
   "execution_count": null,
   "id": "3e68b7c0-5c7b-4983-8f06-6f9f53b279f3",
   "metadata": {},
   "outputs": [],
   "source": [
    "\n",
    "# List of popular languages used by data scientists\n",
    "1. \"Python\"\n",
    "2. \"R\"\n",
    "3. \"SQL\"\n",
    "4. \"Java\"\n",
    "\n",
    "\n"
   ]
  },
  {
   "cell_type": "code",
   "execution_count": null,
   "id": "3e1e6db3-b98e-49fb-8103-17ab5a2f9bd3",
   "metadata": {},
   "outputs": [],
   "source": [
    "# Data Science Tools\n",
    "\n",
    "| Data Science Tools         |\n",
    "|----------------------------|\n",
    "| Jupyter Notebook           |\n",
    "| RStudio                    |\n",
    "| Apache Zeppelin            |\n",
    "\n"
   ]
  },
  {
   "cell_type": "code",
   "execution_count": null,
   "id": "e2ded9b0-b75c-4660-bba1-c88e69a10249",
   "metadata": {},
   "outputs": [],
   "source": [
    "### Below are a few examples of evaluating arithmetic expressions in Python.\n",
    "\n",
    "a=int(input(\"give me a numbre\")\n",
    "b=int(input(\"give me a numbre\")\n",
    "add= a+b\n",
    "subs=a-b\n",
    "mul=a*b\n",
    "div=a/b\n",
    "print(add,\"  \",subs,\"  \", mul,\"  \",div)\n",
    "\n",
    "\n",
    "# This is a simple arithmetic expression to multiply then add integers.\n",
    "result = (3 * 4) + 5\n",
    "result\n"
   ]
  },
  {
   "cell_type": "code",
   "execution_count": 1,
   "id": "a4f823ca-0e3f-4bba-b5a9-6b81f6f60c56",
   "metadata": {},
   "outputs": [
    {
     "name": "stdout",
     "output_type": "stream",
     "text": [
      " in this excercise we cconvert 200 minutes to hours\n",
      "3.3333333333333335\n"
     ]
    }
   ],
   "source": [
    "#convert 200 minutes to hours by diving by 60.\n",
    "\n",
    "print(\" in this excercise we cconvert 200 minutes to hours\")\n",
    "print (200/60)"
   ]
  },
  {
   "cell_type": "code",
   "execution_count": null,
   "id": "8693f5fa-c628-4567-889d-c7854fea8e96",
   "metadata": {},
   "outputs": [],
   "source": [
    "#In this notebook, Data Science Tools and Ecosystem are summarized.\n",
    "\n",
    "** Objetive **\n",
    "- Phyton\n",
    "- R\n",
    "- Swift\n",
    "- Java\n",
    "- Julia\n",
    "- Scala\n"
   ]
  },
  {
   "cell_type": "code",
   "execution_count": null,
   "id": "aafb5570-2506-4e9f-8ac1-5080576de1cd",
   "metadata": {},
   "outputs": [],
   "source": [
    "## Author: Jose Juan Calvo"
   ]
  }
 ],
 "metadata": {
  "kernelspec": {
   "display_name": "Python 3 (ipykernel)",
   "language": "python",
   "name": "python3"
  },
  "language_info": {
   "codemirror_mode": {
    "name": "ipython",
    "version": 3
   },
   "file_extension": ".py",
   "mimetype": "text/x-python",
   "name": "python",
   "nbconvert_exporter": "python",
   "pygments_lexer": "ipython3",
   "version": "3.11.9"
  }
 },
 "nbformat": 4,
 "nbformat_minor": 5
}
